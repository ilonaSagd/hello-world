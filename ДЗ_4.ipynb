{
  "nbformat": 4,
  "nbformat_minor": 0,
  "metadata": {
    "colab": {
      "provenance": []
    },
    "kernelspec": {
      "name": "python3",
      "display_name": "Python 3"
    },
    "language_info": {
      "name": "python"
    }
  },
  "cells": [
    {
      "cell_type": "code",
      "execution_count": null,
      "metadata": {
        "id": "sofVSGbKosDo"
      },
      "outputs": [],
      "source": [
        "import numpy as np"
      ]
    },
    {
      "cell_type": "code",
      "source": [
        "#Задание №1\n",
        "a = np.array([[1, 2, 1], [-2, 1, 1]])\n",
        "b = np.array([[3, 1], [-1, 0], [2, 4]])\n",
        "c = np.array([[-2, 1], [1, -1], [1, 2]])\n",
        "result1 = 2*b     #матрицы a и b не суммируются т.к. они разных размеров\n",
        "result2 = b + 2*c\n",
        "print('Результат 1:\\n', result1)\n",
        "print('Результат 2:\\n', result2)"
      ],
      "metadata": {
        "colab": {
          "base_uri": "https://localhost:8080/"
        },
        "id": "J6ye2T-6o8Wx",
        "outputId": "c97dd561-44ac-4ce6-a894-27f66f5bd7cc"
      },
      "execution_count": null,
      "outputs": [
        {
          "output_type": "stream",
          "name": "stdout",
          "text": [
            "Результат 1:\n",
            " [[ 6  2]\n",
            " [-2  0]\n",
            " [ 4  8]]\n",
            "Результат 2:\n",
            " [[-1  3]\n",
            " [ 1 -2]\n",
            " [ 4  8]]\n"
          ]
        }
      ]
    },
    {
      "cell_type": "code",
      "source": [
        "#Задача №2\n",
        "matrix = np.zeros((8, 8), dtype=np.int32) #выбрал разрядность 32, но только интуитивно. Есди будет возможность, объясните, пожалуйста в комментарии к заданию, верно это или нет; имеет это значение или нет\n",
        "matrix[::2, ::2] = 1\n",
        "matrix[1::2, 1::2] = 1\n",
        "print(matrix)\n"
      ],
      "metadata": {
        "colab": {
          "base_uri": "https://localhost:8080/"
        },
        "id": "1Z5wjm5Ps_U2",
        "outputId": "1119f289-6f24-4763-ab0a-35d2a4fd2a46"
      },
      "execution_count": null,
      "outputs": [
        {
          "output_type": "stream",
          "name": "stdout",
          "text": [
            "[[1 0 1 0 1 0 1 0]\n",
            " [0 1 0 1 0 1 0 1]\n",
            " [1 0 1 0 1 0 1 0]\n",
            " [0 1 0 1 0 1 0 1]\n",
            " [1 0 1 0 1 0 1 0]\n",
            " [0 1 0 1 0 1 0 1]\n",
            " [1 0 1 0 1 0 1 0]\n",
            " [0 1 0 1 0 1 0 1]]\n"
          ]
        }
      ]
    },
    {
      "cell_type": "code",
      "source": [
        "#Задача №3\n",
        "vecA = np.arange(0, 1.5, 0.1, dtype=np.float_)\n",
        "vecB = np.arange(1, 7, dtype=np.int_)\n",
        "vecA_to_matrix = vecA.reshape(5, 3)\n",
        "vecB_to_matrix = vecB.reshape(3, 2)\n",
        "mult_matrices = vecA_to_matrix @ vecB_to_matrix\n",
        "print('Матрица А:\\n', vecA_to_matrix)\n",
        "print('Матрица В:\\n', vecB_to_matrix)\n",
        "print('Умножение:\\n', mult_matrices)"
      ],
      "metadata": {
        "colab": {
          "base_uri": "https://localhost:8080/"
        },
        "id": "Y--ucJqOB0So",
        "outputId": "f5b12a77-c12f-4678-a3f0-890ce2654b75"
      },
      "execution_count": null,
      "outputs": [
        {
          "output_type": "stream",
          "name": "stdout",
          "text": [
            "Матрица А:\n",
            " [[0.  0.1 0.2]\n",
            " [0.3 0.4 0.5]\n",
            " [0.6 0.7 0.8]\n",
            " [0.9 1.  1.1]\n",
            " [1.2 1.3 1.4]]\n",
            "Матрица В:\n",
            " [[1 2]\n",
            " [3 4]\n",
            " [5 6]]\n",
            "Умножение:\n",
            " [[ 1.3  1.6]\n",
            " [ 4.   5.2]\n",
            " [ 6.7  8.8]\n",
            " [ 9.4 12.4]\n",
            " [12.1 16. ]]\n"
          ]
        }
      ]
    },
    {
      "cell_type": "code",
      "source": [
        "#Задача №4\n",
        "vec = np.arange(1, 72, 2, dtype=np.int32)\n",
        "result = vec[(vec % 3 == 0)]\n",
        "print('Вектор:\\n', vec)\n",
        "print('Элементы, кратные 3:\\n', result)"
      ],
      "metadata": {
        "colab": {
          "base_uri": "https://localhost:8080/"
        },
        "id": "B5xKMV-XUQYA",
        "outputId": "7e529aa0-f569-4b8f-9470-e137879b5b18"
      },
      "execution_count": null,
      "outputs": [
        {
          "output_type": "stream",
          "name": "stdout",
          "text": [
            "Вектор:\n",
            " [ 1  3  5  7  9 11 13 15 17 19 21 23 25 27 29 31 33 35 37 39 41 43 45 47\n",
            " 49 51 53 55 57 59 61 63 65 67 69 71]\n",
            "Элементы, кратные 3:\n",
            " [ 3  9 15 21 27 33 39 45 51 57 63 69]\n"
          ]
        }
      ]
    }
  ]
}